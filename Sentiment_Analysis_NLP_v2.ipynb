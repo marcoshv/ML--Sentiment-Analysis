{
 "cells": [
  {
   "cell_type": "markdown",
   "metadata": {},
   "source": [
    "# Sentiment Analysis: Large Movie Review Dataset\n",
    "\n",
    "Hi again! You will be expected to finish this on your own, but you can use the available channels on Discord to ask questions and help others. Please read the entire notebook before starting, this will give you a better idea of what you need to accomplish.\n",
    "\n",
    "This project is related to NLP. As you may already know, the most important and hardest part of an NLP project is pre-processing, which is why we are going to focus on that.\n",
    "\n",
    "Regarding the data, we are not going to have a __csv file__, that would be too easy :) instead we are going to download the data from [AI Stanford Dataset](https://ai.stanford.edu/~amaas/data/sentiment/). When you download them you will notice that their format is text files, so you will have to work a little there to be able to use and process them. This is a dataset for __binary sentiment classification__.\n",
    "\n",
    "Basically a basic sentiment analysis problem, as in this case, consists of a classification problem, where the possible output labels are: `positive` and `negative`. Which indicates, if the review of a movie speaks positively or negatively. In our case it is a binary problem, but one could have many more \"feelings\" tagged and thus allow a more granular analysis.\n",
    "\n",
    "### These are the objectives of the project:\n",
    "\n",
    "* Read data that is not in a traditional format.\n",
    "* Put together a set of preprocessing functions that we can use later on any NLP or related problems.\n",
    "* Vectorize the data in order to apply a machine learning model to it: using BoW or TF-IDF.\n",
    "* BoW and TF-IDF are classic ways to vectorize text, but currently we have some more complex ways with better performance, for this we are going to train our own word embedding and use it as a vectorization source for our data.\n",
    "* Train a sentiment analysis model that allows us to detect positive and negative opinions in movie reviews."
   ]
  },
  {
   "cell_type": "markdown",
   "metadata": {},
   "source": [
    "---\n",
    "## 1. Get the data\n",
    "\n",
    "#### Download the data and process it in order to obtain:\n",
    "\n",
    "* `X_train:` list with reviews for training.\n",
    "* `y_train:` list with labels for training.\n",
    "* `X_test:` list with reviews for testing.\n",
    "* `y_test:` list with labels for testing.\n",
    "\n",
    "`Notes:` Use the target column as `positive`, that way the positive value will be indicated with a value of `1` and negative with a value of `0`. In this case, a split train/test is not necessary because the original data is already separated."
   ]
  },
  {
   "cell_type": "code",
   "execution_count": 92,
   "metadata": {},
   "outputs": [
    {
     "name": "stdout",
     "output_type": "stream",
     "text": [
      "The autoreload extension is already loaded. To reload it, use:\n",
      "  %reload_ext autoreload\n"
     ]
    }
   ],
   "source": [
    "import os\n",
    "import pandas as pd\n",
    "import text_normalizer\n",
    "import lightgbm as lgb\n",
    "from evaluation import get_performance\n",
    "from evaluation import plot_roc\n",
    "import numpy as np\n",
    "import xgboost as xgb\n",
    "from text_normalizer import normalize_corpus\n",
    "from sklearn.feature_extraction.text import TfidfVectorizer\n",
    "from sklearn.model_selection import GridSearchCV, RandomizedSearchCV\n",
    "from sklearn.linear_model import LogisticRegression\n",
    "from sklearn import metrics\n",
    "from sklearn.ensemble import RandomForestClassifier, GradientBoostingClassifier\n",
    "from nltk.tokenize.toktok import ToktokTokenizer\n",
    "%load_ext autoreload\n",
    "%aimport evaluation\n",
    "%autoreload 1\n",
    "from gensim.models import Word2Vec"
   ]
  },
  {
   "cell_type": "code",
   "execution_count": 93,
   "metadata": {},
   "outputs": [],
   "source": [
    "def read_movie_review_dataset(directory, istrain): # Funtion to create the lists from the .txt files from the movies_reviews_dataset folder\n",
    "    \"\"\"\n",
    "    Calls the walkdir funtion to walk through all the files in a directory and its subfolders,\n",
    "    then it opens the .text file and reads its content. finally appends the .txt file content\n",
    "    and label to the corresponding list.\n",
    "\n",
    "    Parameters\n",
    "    ----------\n",
    "    directory : str\n",
    "    Path to the folder you want to walk.\n",
    "\n",
    "    Returns\n",
    "    -------\n",
    "    X_train: list with reviews for training.\n",
    "    y_train: list with labels for training.\n",
    "    X_test: list with reviews for testing.\n",
    "    y_test: list with labels for testing..\n",
    "    \"\"\"\n",
    "    train_folder = os.path.join(directory, \"train\")\n",
    "    test_folder = os.path.join(directory, \"test\")\n",
    "    X_train, y_train, X_train_unsup, X_test, y_test, = [], [], [], [], []\n",
    "    if istrain==True:\n",
    "        for dirpath, _, files in os.walk(train_folder):# Iterate over each file in 'train_folder' using os.walk\n",
    "            for filename in files:\n",
    "                full_path = os.path.join(dirpath, filename)\n",
    "                pre_label = os.path.dirname(full_path)\n",
    "                label = os.path.basename(pre_label)\n",
    "                if label =='neg' or label=='pos':\n",
    "                    file = open(full_path, 'rt', encoding=\"utf8\")\n",
    "                    movie_review = file.read()\n",
    "                    file.close()\n",
    "                    X_train.append(movie_review)\n",
    "                    y_train.append(0 if label=='neg' else 1)\n",
    "                if label == 'unsup':\n",
    "                    file = open(full_path, 'rt', encoding=\"utf8\")\n",
    "                    movie_review = file.read()\n",
    "                    file.close()\n",
    "                    X_train_unsup.append(movie_review)\n",
    "        return X_train, y_train, X_train_unsup\n",
    "    else:\n",
    "        for dirpath, _, files in os.walk(test_folder):# Iterate over each text in 'test_folder' using os.walk\n",
    "            for filename in files:\n",
    "                full_path = os.path.join(dirpath, filename)\n",
    "                pre_label = os.path.dirname(full_path)\n",
    "                label = os.path.basename(pre_label)\n",
    "                if label =='neg' or label=='pos':\n",
    "                    file = open(full_path, 'rt', encoding=\"utf8\")\n",
    "                    movie_review = file.read()\n",
    "                    file.close()\n",
    "                    X_test.append(movie_review)\n",
    "                    y_test.append(0 if label=='neg' else 1)\n",
    "        return X_test, y_test"
   ]
  },
  {
   "cell_type": "code",
   "execution_count": 94,
   "metadata": {},
   "outputs": [],
   "source": [
    "# Calls the 'read_movie_review_dataset' funtion to create lists from the .txt files\n",
    "X_train, y_train, X_train_unsup = read_movie_review_dataset('movie_reviews_dataset/', istrain=True)\n",
    "X_test, y_test = read_movie_review_dataset('movie_reviews_dataset/', istrain=False)"
   ]
  },
  {
   "cell_type": "code",
   "execution_count": 95,
   "metadata": {},
   "outputs": [],
   "source": [
    "# Creates .csv files of the moview reviews data\n",
    "movie_reviews_dict = {'X_train': X_train, 'y_train': y_train,'X_test':X_test, 'y_test': y_test}\n",
    "movie_reviews_dataframe = pd.DataFrame(movie_reviews_dict)\n",
    "movie_reviews_dataframe.to_csv(\"movie_reviews_dataset.csv\")\n",
    "\n",
    "x_train_unsup_dict = {'X_train_unsup' : X_train_unsup}\n",
    "x_train_unsup_dataframe = pd.DataFrame(x_train_unsup_dict)\n",
    "x_train_unsup_dataframe.to_csv(\"x_train_unsup_dataset.csv\")"
   ]
  },
  {
   "cell_type": "code",
   "execution_count": 96,
   "metadata": {},
   "outputs": [],
   "source": [
    "movie_reviews_dataframe= pd.read_csv(\"movie_reviews_dataset.csv\")\n",
    "X_train = movie_reviews_dataframe['X_train'].tolist()\n",
    "y_train = movie_reviews_dataframe['y_train'].tolist()\n",
    "X_test = movie_reviews_dataframe['X_test'].tolist()\n",
    "y_test = movie_reviews_dataframe['y_test'].tolist()"
   ]
  },
  {
   "cell_type": "markdown",
   "metadata": {},
   "source": [
    "### *Don't change anything in this block, just make it run correctly*\n",
    "\n",
    "We are going to check that you have done it right and for that we are going to see if the dimensions match."
   ]
  },
  {
   "cell_type": "code",
   "execution_count": 97,
   "metadata": {},
   "outputs": [
    {
     "name": "stdout",
     "output_type": "stream",
     "text": [
      "Reading Data Success!\n"
     ]
    }
   ],
   "source": [
    "def check_data(X_train, y_train, X_test, y_test):\n",
    "    if len(X_train) == len(y_train) == len(X_test) == len(y_test) == 25000:\n",
    "        print('Reading Data Success!')\n",
    "    else:\n",
    "        raise ValueError('Dimensions do not match!')\n",
    "\n",
    "check_data(X_train, y_train, X_test, y_test)"
   ]
  },
  {
   "cell_type": "markdown",
   "metadata": {},
   "source": [
    "---\n",
    "## 2. Normalize the data\n",
    "\n",
    "#### Create the following functions but not here in the notebook, do it in the python script called `text_normalizer.py` and import them into the notebook (this way you can build your own NLP preprocessing library). In fact, the structure of the functions is already written, you must complete them with the code that you consider necessary.\n",
    "\n",
    "#### Respect names and minimal interfaces:\n",
    "\n",
    "* `remove_html_tags(text):` to remove all HTML tags that may be present in text.\n",
    "* `remove_accented_chars(text):` to remove accented characters from text\n",
    "* `expand_contractions(text):` to expand contractions of the type, \"don't\" to \"do not\". The contractions are already defined in the \"contractions.py\" file.\n",
    "* `lemmatize_text(text):` to lemmatize text.\n",
    "* `stem_text(text):` to apply stemming (NLTK's PorterStemmer) on text.\n",
    "* `remove_special_chars(text):` to remove special characters from text.\n",
    "* `remove_special_chars(text, remove_digits=True):` to remove numbers, note that it is the same function to remove special characters with the addition of an argument that enables or disables the removal of numbers.\n",
    "* `remove_stopwords(text, stopwords=stop_words):` to remove stopwords from text.\n",
    "* `remove_extra_new_lines(text):` to remove extra newlines from text.\n",
    "* `remove_extra_whitespace(text):` to remove extra whitespaces from text.\n",
    "\n",
    "If you want to add more features that would be great, for example you could start by removing emojis, using different stemming algorithms, etc. The more functions you have the better, remember that the texts are very varied and the preprocessing depends a lot on the source of our data.\n",
    "\n",
    "To apply each of the functions you created and pre-process the dataset, you must use the `normalize_corpus` function of the `text_normalizer.py` script. In this method each of the functions you wrote is called, in fact you must enable or disable what you consider necessary (`at this point we leave it to your free choice, for example: you can lemmatize or apply stemming or directly not apply any of the two and so on with the rest, but that is your choice`), this function simply groups the previous ones for a more simplified use."
   ]
  },
  {
   "cell_type": "code",
   "execution_count": 98,
   "metadata": {},
   "outputs": [
    {
     "name": "stderr",
     "output_type": "stream",
     "text": [
      "100%|██████████| 25000/25000 [14:26<00:00, 28.86it/s]\n",
      "100%|██████████| 50000/50000 [29:00<00:00, 28.73it/s] \n",
      "100%|██████████| 25000/25000 [14:03<00:00, 29.64it/s]\n"
     ]
    }
   ],
   "source": [
    "# Pre-procces X_train and X_Test the dataset using the normalize_corpus funtion from the text_normalizer script.\n",
    "pre_proccesed_X_train = normalize_corpus(X_train, text_lemmatization=True,text_stemming=False)\n",
    "pre_proccesed_X_train_unsup = normalize_corpus(X_train_unsup, text_lemmatization=True,text_stemming=False)\n",
    "pre_proccesed_X_test = normalize_corpus(X_test, text_lemmatization=True,text_stemming=False)"
   ]
  },
  {
   "cell_type": "code",
   "execution_count": 99,
   "metadata": {},
   "outputs": [],
   "source": [
    "# I turned the proccesed lists into a dataframe and then a csv file because it took long to create the proccesed lists \n",
    "x_train_x_test_dict_normalized = {'X_train_norm': pre_proccesed_X_train,'X_test_norm': pre_proccesed_X_test}\n",
    "x_train_x_test_normalized_dataframe = pd.DataFrame(x_train_x_test_dict_normalized)\n",
    "x_train_x_test_normalized_dataframe.to_csv(\"x_train_x_test_normalized.csv\")\n",
    "\n",
    "x_train_unsup_dict_normalized = {'X_train_unsup_norm': pre_proccesed_X_train_unsup}\n",
    "x_train_unsup_normalized_dataframe = pd.DataFrame(x_train_unsup_dict_normalized)\n",
    "x_train_unsup_normalized_dataframe.to_csv(\"x_train_unsup_normalized.csv\") "
   ]
  },
  {
   "cell_type": "code",
   "execution_count": 100,
   "metadata": {},
   "outputs": [],
   "source": [
    "# Run this cell to get the proccesed lists from the '\"x_train_x_test_normalized.csv\"' from the project working folder\n",
    "x_train_x_test_normalized_dataframe= pd.read_csv(\"x_train_x_test_normalized.csv\")"
   ]
  },
  {
   "cell_type": "code",
   "execution_count": 101,
   "metadata": {},
   "outputs": [],
   "source": [
    "# Run this cell to get the proccesed lists from the \"x_train_unsup_normalized.csv\" from the project working folder\n",
    "x_train_unsup_normalized_dataframe = pd.read_csv(\"x_train_unsup_normalized.csv\")"
   ]
  },
  {
   "cell_type": "markdown",
   "metadata": {},
   "source": [
    "### *Don't change anything in this block, just make it run correctly*\n",
    "\n",
    "We are going to check that the pre-processing does what we need it to do, for this we are going to test the functions with predefined inputs and we are going to see if the outputs match what we are looking for.\n",
    "\n",
    "Note that the functions are not defined in the notebook itself, but rather that they are in a python file and you must import them in order to use them. Same thing with names, you're going to have to name your functions the way they were named."
   ]
  },
  {
   "cell_type": "code",
   "execution_count": 102,
   "metadata": {},
   "outputs": [
    {
     "name": "stdout",
     "output_type": "stream",
     "text": [
      "[1/10] Remove HTML Success!\n",
      "[2/10] Remove Accented Success!\n",
      "[3/10] Expand Contractions Success!\n",
      "[4/10] Lemmatization Success!\n",
      "[5/10] Stemming Success!\n",
      "[6/10] Remove Specials Success!\n",
      "[7/10] Remove Digits Success!\n",
      "[8/10] Remove Stopwords Success!\n",
      "[9/10] Remove New Lines Success!\n",
      "[10/10] Remove Extra Whitespaces Success!\n"
     ]
    }
   ],
   "source": [
    "import nltk\n",
    "\n",
    "# Inputs\n",
    "doc_html = \"<br /><br />But with plague out there and the news being kept a secret, the New Orleans PD starts a dragnet of the city's underworld.\"\n",
    "doc_accented = \"Héllo, thís is an accented sénténce.\"\n",
    "doc_contractions = \"I can't, because it doesn't work.\"\n",
    "doc_lemma = \"The striped bats are hanging on their feet for best\"\n",
    "doc_stem = \"\"\"\n",
    "Where did he learn to dance like that?\n",
    "His eyes were dancing with humor.\n",
    "She shook her head and danced away.\n",
    "\"\"\"\n",
    "doc_specials = \"hello? there A-Z-R_T(,**), world, welcome to python. this **should? the next line#followed- by@ an#other %million^ %%like $this.\"\n",
    "doc_digits = \"abc123def456ghi789zero0 hello my friend number 10\"\n",
    "doc_stop = \"He is a very good person\"\n",
    "doc_new_lines = \"\"\"we\n",
    "use\n",
    "a\n",
    "lot\n",
    "of\n",
    "lines\"\"\"\n",
    "doc_spaces = \"Hello           my      dear          friend\"\n",
    "\n",
    "# Outputs\n",
    "good_html = \"But with plague out there and the news being kept a secret, the New Orleans PD starts a dragnet of the city's underworld.\"\n",
    "good_accented = \"Hello, this is an accented sentence.\"\n",
    "good_contractions = \"I cannot, because it does not work.\"\n",
    "good_lemma = \"the stripe bat be hang on their foot for good\"\n",
    "good_stem = \"where did he learn to danc like that ? hi eye were danc with humor. she shook her head and danc away .\"\n",
    "good_specials = \"hello there AZRT world welcome to python this should the next linefollowed by another million like this\"\n",
    "good_digits = \"abcdefghizero hello my friend number \"\n",
    "good_stop = \"good person\"\n",
    "good_new_lines = \"we use a lot of lines\"\n",
    "good_spaces = \"Hello my dear friend\"\n",
    "stop_words = nltk.corpus.stopwords.words('english')\n",
    "\n",
    "def check_normalization():\n",
    "    if good_html == text_normalizer.remove_html_tags(doc_html):\n",
    "        print('[1/10] Remove HTML Success!')\n",
    "    else:\n",
    "        raise ValueError('[1/10] Remove HTML Fail!')\n",
    "        \n",
    "    if good_accented == text_normalizer.remove_accented_chars(doc_accented):\n",
    "        print('[2/10] Remove Accented Success!')\n",
    "    else:\n",
    "        raise ValueError('[2/10] Remove Accented Fail!')\n",
    "        \n",
    "    if good_contractions == text_normalizer.expand_contractions(doc_contractions):\n",
    "        print('[3/10] Expand Contractions Success!')\n",
    "    else:\n",
    "        raise ValueError('[3/10] Expand Contractions Fail!')\n",
    "        \n",
    "    if good_lemma == text_normalizer.lemmatize_text(doc_lemma):\n",
    "        print('[4/10] Lemmatization Success!')\n",
    "    else:\n",
    "        raise ValueError('[4/10] Lemmatization Fail!')\n",
    "        \n",
    "    #print(text_normalizer.stem_text(doc_stem))\n",
    "    if good_stem == text_normalizer.stem_text(doc_stem):\n",
    "        print('[5/10] Stemming Success!')\n",
    "    else:\n",
    "        raise ValueError('[5/10] Stemming Fail!')\n",
    "        \n",
    "    if good_specials == text_normalizer.remove_special_chars(doc_specials):\n",
    "        print('[6/10] Remove Specials Success!')\n",
    "    else:\n",
    "        raise ValueError('[6/8] Remove Specials Fail!')\n",
    "        \n",
    "    if good_digits == text_normalizer.remove_special_chars(doc_digits, remove_digits=True):\n",
    "        print('[7/10] Remove Digits Success!')\n",
    "    else:\n",
    "        raise ValueError('[7/10] Remove Digits Fail!')\n",
    "        \n",
    "    if good_stop == text_normalizer.remove_stopwords(doc_stop, stopwords=stop_words):\n",
    "        print('[8/10] Remove Stopwords Success!')\n",
    "    else:\n",
    "        raise ValueError('[8/10] Remove Stopwords Fail!')\n",
    "    \n",
    "    if good_new_lines == text_normalizer.remove_extra_new_lines(doc_new_lines):\n",
    "        print('[9/10] Remove New Lines Success!')\n",
    "    else:\n",
    "        raise ValueError('[9/10] Remove New Lines Fail!')\n",
    "        \n",
    "    if good_spaces == text_normalizer.remove_extra_whitespace(doc_spaces):\n",
    "        print('[10/10] Remove Extra Whitespaces Success!')\n",
    "    else:\n",
    "        raise ValueError('[10/10] Remove Extra Whitespaces Fail!')\n",
    "\n",
    "check_normalization()"
   ]
  },
  {
   "cell_type": "markdown",
   "metadata": {},
   "source": [
    "---\n",
    "## 3. Feature Engineering\n",
    "\n",
    "You already have the pr-eprocessed data, now you must vectorize them, because remember that the models only understand numbers. At this stage choose whether you want to vectorize with BoW or with TF-IDF. Later we will train our own embedding but for now we go with a more \"classic\" vectorization."
   ]
  },
  {
   "cell_type": "code",
   "execution_count": 103,
   "metadata": {},
   "outputs": [],
   "source": [
    "vectorizer = TfidfVectorizer(norm= None)\n",
    "x_train_vectorized = vectorizer.fit_transform(x_train_x_test_normalized_dataframe['X_train_norm'].tolist())\n",
    "x_test_vectorized = vectorizer.transform(x_train_x_test_normalized_dataframe['X_test_norm'].tolist())"
   ]
  },
  {
   "cell_type": "markdown",
   "metadata": {},
   "source": [
    "## 4. Modeling and Performance Evaluation\n",
    "\n",
    "As we said at the beginning, what interests us most in this part is pre-processing. However, we must train a model, so choose a model of your choice (obviously a classification model, given the problem we are facing) and apply everything we learned. Also if you want you can try several models, the more models you use and know better!\n",
    "\n",
    "In addition to training the model we ask you to show:\n",
    "\n",
    "* `Precision`\n",
    "* `Recall`\n",
    "* `F1-Score`\n",
    "* `Classification Report`\n",
    "* `Confusion Matrix`\n",
    "\n",
    "To do this you must complete the `get_performance` function of the `evaluation.py` script.\n",
    "\n",
    "Also, you must complete the `plot_roc` function so that it can show:\n",
    "\n",
    "* `ROC Curve`\n",
    "* `Obtain the ROC-AUC value (later we will do a small minimum performance check with this value)`"
   ]
  },
  {
   "cell_type": "code",
   "execution_count": 104,
   "metadata": {},
   "outputs": [
    {
     "name": "stdout",
     "output_type": "stream",
     "text": [
      "Fitting 5 folds for each of 28 candidates, totalling 140 fits\n"
     ]
    },
    {
     "name": "stderr",
     "output_type": "stream",
     "text": [
      "c:\\Users\\marco\\AppData\\Local\\pypoetry\\Cache\\virtualenvs\\anyoneai-sprint6-gza19SlD-py3.8\\lib\\site-packages\\sklearn\\model_selection\\_validation.py:378: FitFailedWarning: \n",
      "70 fits failed out of a total of 140.\n",
      "The score on these train-test partitions for these parameters will be set to nan.\n",
      "If these failures are not expected, you can try to debug them by setting error_score='raise'.\n",
      "\n",
      "Below are more details about the failures:\n",
      "--------------------------------------------------------------------------------\n",
      "70 fits failed with the following error:\n",
      "Traceback (most recent call last):\n",
      "  File \"c:\\Users\\marco\\AppData\\Local\\pypoetry\\Cache\\virtualenvs\\anyoneai-sprint6-gza19SlD-py3.8\\lib\\site-packages\\sklearn\\model_selection\\_validation.py\", line 686, in _fit_and_score\n",
      "    estimator.fit(X_train, y_train, **fit_params)\n",
      "  File \"c:\\Users\\marco\\AppData\\Local\\pypoetry\\Cache\\virtualenvs\\anyoneai-sprint6-gza19SlD-py3.8\\lib\\site-packages\\sklearn\\linear_model\\_logistic.py\", line 1091, in fit\n",
      "    solver = _check_solver(self.solver, self.penalty, self.dual)\n",
      "  File \"c:\\Users\\marco\\AppData\\Local\\pypoetry\\Cache\\virtualenvs\\anyoneai-sprint6-gza19SlD-py3.8\\lib\\site-packages\\sklearn\\linear_model\\_logistic.py\", line 61, in _check_solver\n",
      "    raise ValueError(\n",
      "ValueError: Solver lbfgs supports only 'l2' or 'none' penalties, got l1 penalty.\n",
      "\n",
      "  warnings.warn(some_fits_failed_message, FitFailedWarning)\n",
      "c:\\Users\\marco\\AppData\\Local\\pypoetry\\Cache\\virtualenvs\\anyoneai-sprint6-gza19SlD-py3.8\\lib\\site-packages\\sklearn\\model_selection\\_search.py:953: UserWarning: One or more of the test scores are non-finite: [       nan        nan 0.91981786 0.91981786        nan        nan\n",
      " 0.90401674 0.90401674        nan        nan 0.8903631  0.8903631\n",
      "        nan        nan 0.88303059 0.88303059        nan        nan\n",
      " 0.87906186 0.87906237        nan        nan 0.87664547 0.87663878\n",
      "        nan        nan 0.87527459 0.87538054]\n",
      "  warnings.warn(\n"
     ]
    },
    {
     "name": "stdout",
     "output_type": "stream",
     "text": [
      "Logistic regression tuned hpyerparameters :(best parameters)  {'C': 0.001, 'class_weight': None, 'dual': False, 'fit_intercept': True, 'intercept_scaling': 1, 'l1_ratio': None, 'max_iter': 100000, 'multi_class': 'auto', 'n_jobs': None, 'penalty': 'l2', 'random_state': 2611, 'solver': 'lbfgs', 'tol': 0.001, 'verbose': 0, 'warm_start': False}\n"
     ]
    }
   ],
   "source": [
    "# Logistic Regression\n",
    "grid={\"C\":np.logspace(-3,3,7), \"penalty\":[\"l1\",\"l2\"], \"max_iter\":[100000], \"tol\":[0.0010, 0.0012]}\n",
    "logreg = LogisticRegression(random_state=2611)\n",
    "clf_cv = GridSearchCV(logreg,grid,cv=5, n_jobs=-1, verbose=2, scoring='roc_auc')\n",
    "logreg_cv = clf_cv.fit(x_train_vectorized,y_train)\n",
    "y_logreg_cv_pred = logreg_cv.predict(x_test_vectorized)\n",
    "print(\"Logistic regression tuned hpyerparameters :(best parameters) \",logreg_cv.best_estimator_.get_params())"
   ]
  },
  {
   "cell_type": "code",
   "execution_count": 105,
   "metadata": {},
   "outputs": [
    {
     "name": "stdout",
     "output_type": "stream",
     "text": [
      "Model Performance metrics:\n",
      "------------------------------\n",
      "Accuracy: 0.8768\n",
      "Precision: 0.8806983511154219\n",
      "Recall: 0.87168\n",
      "F1 Score: 0.8761659697651979\n",
      "\n",
      "Model Classification report:\n",
      "------------------------------\n",
      "              precision    recall  f1-score   support\n",
      "\n",
      "           0       0.87      0.88      0.88     12500\n",
      "           1       0.88      0.87      0.88     12500\n",
      "\n",
      "    accuracy                           0.88     25000\n",
      "   macro avg       0.88      0.88      0.88     25000\n",
      "weighted avg       0.88      0.88      0.88     25000\n",
      "\n",
      "\n",
      "Prediction Confusion Matrix:\n",
      "------------------------------\n",
      "       0      1\n",
      "0  11024   1476\n",
      "1   1604  10896\n",
      "Roc AUC Logistic Regression Training set score: 0.9922\n",
      "Roc AUC Logistic Regression Test set score: 0.9443\n"
     ]
    }
   ],
   "source": [
    "get_performance(y_logreg_cv_pred,y_test)\n",
    "y_pred_proba_test_lr = logreg_cv.predict_proba(x_test_vectorized)[::,1]\n",
    "auc_test_lr = metrics.roc_auc_score(y_test, y_pred_proba_test_lr)\n",
    "\n",
    "y_pred_proba_train_lr = logreg_cv.predict_proba(x_train_vectorized)[::,1]\n",
    "auc_train_lr = metrics.roc_auc_score(y_test, y_pred_proba_train_lr)\n",
    "\n",
    "print('Roc AUC Logistic Regression Training set score: {:.4f}'.format(auc_train_lr))\n",
    "print('Roc AUC Logistic Regression Test set score: {:.4f}'.format(auc_test_lr))"
   ]
  },
  {
   "cell_type": "code",
   "execution_count": 106,
   "metadata": {},
   "outputs": [
    {
     "name": "stdout",
     "output_type": "stream",
     "text": [
      "Fitting 3 folds for each of 20 candidates, totalling 60 fits\n"
     ]
    },
    {
     "name": "stderr",
     "output_type": "stream",
     "text": [
      "[Parallel(n_jobs=1)]: Using backend SequentialBackend with 1 concurrent workers.\n",
      "[Parallel(n_jobs=1)]: Done 200 out of 200 | elapsed:   20.7s finished\n"
     ]
    }
   ],
   "source": [
    "# RandomForest Classifier\n",
    "model_params = {\n",
    "    # Number of trees in random forest\n",
    "    'n_estimators': [int(x) for x in np.linspace(start = 4, stop = 200, num = 4)],\n",
    "    # Maximum number of levels in tree\n",
    "    'max_depth': [20, 40, 60, 100],\n",
    "    # Minimum number of samples required to split a node - itereate 3 different values\n",
    "    'min_samples_split': [2, 5, 10],\n",
    "    # Minimum number of samples required at each leaf node - itereate 3 different values\n",
    "    'min_samples_leaf': [1, 2, 4]\n",
    "}\n",
    "rf_model = RandomForestClassifier(random_state=2611, verbose=1)\n",
    "clf_randomcv = RandomizedSearchCV(rf_model, model_params, n_iter=20, cv=3, random_state=2611, n_jobs=-1, verbose=1, scoring='roc_auc')\n",
    "rf_randomcv = clf_randomcv.fit(x_train_vectorized,y_train)"
   ]
  },
  {
   "cell_type": "code",
   "execution_count": 107,
   "metadata": {},
   "outputs": [
    {
     "name": "stderr",
     "output_type": "stream",
     "text": [
      "[Parallel(n_jobs=1)]: Using backend SequentialBackend with 1 concurrent workers.\n",
      "[Parallel(n_jobs=1)]: Done 200 out of 200 | elapsed:    2.4s finished\n",
      "[Parallel(n_jobs=1)]: Using backend SequentialBackend with 1 concurrent workers.\n"
     ]
    },
    {
     "name": "stdout",
     "output_type": "stream",
     "text": [
      "Model Performance metrics:\n",
      "------------------------------\n",
      "Accuracy: 0.85936\n",
      "Precision: 0.8500623441396509\n",
      "Recall: 0.87264\n",
      "F1 Score: 0.8612032212221695\n",
      "\n",
      "Model Classification report:\n",
      "------------------------------\n",
      "              precision    recall  f1-score   support\n",
      "\n",
      "           0       0.87      0.85      0.86     12500\n",
      "           1       0.85      0.87      0.86     12500\n",
      "\n",
      "    accuracy                           0.86     25000\n",
      "   macro avg       0.86      0.86      0.86     25000\n",
      "weighted avg       0.86      0.86      0.86     25000\n",
      "\n",
      "\n",
      "Prediction Confusion Matrix:\n",
      "------------------------------\n",
      "       0      1\n",
      "0  10576   1924\n",
      "1   1592  10908\n"
     ]
    },
    {
     "name": "stderr",
     "output_type": "stream",
     "text": [
      "[Parallel(n_jobs=1)]: Done 200 out of 200 | elapsed:    2.4s finished\n",
      "[Parallel(n_jobs=1)]: Using backend SequentialBackend with 1 concurrent workers.\n"
     ]
    },
    {
     "name": "stdout",
     "output_type": "stream",
     "text": [
      "Roc AUC Random Forest Training set score: 0.9812\n",
      "Roc AUC Random Forest Test set score: 0.9350\n"
     ]
    },
    {
     "name": "stderr",
     "output_type": "stream",
     "text": [
      "[Parallel(n_jobs=1)]: Done 200 out of 200 | elapsed:    2.5s finished\n"
     ]
    }
   ],
   "source": [
    "y_rf_predict_cv = rf_randomcv.predict(x_test_vectorized)\n",
    "get_performance(y_rf_predict_cv,y_test)\n",
    "y_pred_proba__test_RandomForest = rf_randomcv.predict_proba(x_test_vectorized)[::,1]\n",
    "auc_test_RandomForest = metrics.roc_auc_score(y_test, y_pred_proba__test_RandomForest)\n",
    "\n",
    "y_pred_proba_train_RandomForest = rf_randomcv.predict_proba(x_train_vectorized)[::,1]\n",
    "auc_train_RandomForest = metrics.roc_auc_score(y_test, y_pred_proba_train_RandomForest)\n",
    "\n",
    "print('Roc AUC Random Forest Training set score: {:.4f}'.format(auc_train_RandomForest))\n",
    "print('Roc AUC Random Forest Test set score: {:.4f}'.format(auc_test_RandomForest))"
   ]
  },
  {
   "cell_type": "code",
   "execution_count": 108,
   "metadata": {},
   "outputs": [
    {
     "data": {
      "text/html": [
       "<style>#sk-container-id-7 {color: black;background-color: white;}#sk-container-id-7 pre{padding: 0;}#sk-container-id-7 div.sk-toggleable {background-color: white;}#sk-container-id-7 label.sk-toggleable__label {cursor: pointer;display: block;width: 100%;margin-bottom: 0;padding: 0.3em;box-sizing: border-box;text-align: center;}#sk-container-id-7 label.sk-toggleable__label-arrow:before {content: \"▸\";float: left;margin-right: 0.25em;color: #696969;}#sk-container-id-7 label.sk-toggleable__label-arrow:hover:before {color: black;}#sk-container-id-7 div.sk-estimator:hover label.sk-toggleable__label-arrow:before {color: black;}#sk-container-id-7 div.sk-toggleable__content {max-height: 0;max-width: 0;overflow: hidden;text-align: left;background-color: #f0f8ff;}#sk-container-id-7 div.sk-toggleable__content pre {margin: 0.2em;color: black;border-radius: 0.25em;background-color: #f0f8ff;}#sk-container-id-7 input.sk-toggleable__control:checked~div.sk-toggleable__content {max-height: 200px;max-width: 100%;overflow: auto;}#sk-container-id-7 input.sk-toggleable__control:checked~label.sk-toggleable__label-arrow:before {content: \"▾\";}#sk-container-id-7 div.sk-estimator input.sk-toggleable__control:checked~label.sk-toggleable__label {background-color: #d4ebff;}#sk-container-id-7 div.sk-label input.sk-toggleable__control:checked~label.sk-toggleable__label {background-color: #d4ebff;}#sk-container-id-7 input.sk-hidden--visually {border: 0;clip: rect(1px 1px 1px 1px);clip: rect(1px, 1px, 1px, 1px);height: 1px;margin: -1px;overflow: hidden;padding: 0;position: absolute;width: 1px;}#sk-container-id-7 div.sk-estimator {font-family: monospace;background-color: #f0f8ff;border: 1px dotted black;border-radius: 0.25em;box-sizing: border-box;margin-bottom: 0.5em;}#sk-container-id-7 div.sk-estimator:hover {background-color: #d4ebff;}#sk-container-id-7 div.sk-parallel-item::after {content: \"\";width: 100%;border-bottom: 1px solid gray;flex-grow: 1;}#sk-container-id-7 div.sk-label:hover label.sk-toggleable__label {background-color: #d4ebff;}#sk-container-id-7 div.sk-serial::before {content: \"\";position: absolute;border-left: 1px solid gray;box-sizing: border-box;top: 0;bottom: 0;left: 50%;z-index: 0;}#sk-container-id-7 div.sk-serial {display: flex;flex-direction: column;align-items: center;background-color: white;padding-right: 0.2em;padding-left: 0.2em;position: relative;}#sk-container-id-7 div.sk-item {position: relative;z-index: 1;}#sk-container-id-7 div.sk-parallel {display: flex;align-items: stretch;justify-content: center;background-color: white;position: relative;}#sk-container-id-7 div.sk-item::before, #sk-container-id-7 div.sk-parallel-item::before {content: \"\";position: absolute;border-left: 1px solid gray;box-sizing: border-box;top: 0;bottom: 0;left: 50%;z-index: -1;}#sk-container-id-7 div.sk-parallel-item {display: flex;flex-direction: column;z-index: 1;position: relative;background-color: white;}#sk-container-id-7 div.sk-parallel-item:first-child::after {align-self: flex-end;width: 50%;}#sk-container-id-7 div.sk-parallel-item:last-child::after {align-self: flex-start;width: 50%;}#sk-container-id-7 div.sk-parallel-item:only-child::after {width: 0;}#sk-container-id-7 div.sk-dashed-wrapped {border: 1px dashed gray;margin: 0 0.4em 0.5em 0.4em;box-sizing: border-box;padding-bottom: 0.4em;background-color: white;}#sk-container-id-7 div.sk-label label {font-family: monospace;font-weight: bold;display: inline-block;line-height: 1.2em;}#sk-container-id-7 div.sk-label-container {text-align: center;}#sk-container-id-7 div.sk-container {/* jupyter's `normalize.less` sets `[hidden] { display: none; }` but bootstrap.min.css set `[hidden] { display: none !important; }` so we also need the `!important` here to be able to override the default hidden behavior on the sphinx rendered scikit-learn.org. See: https://github.com/scikit-learn/scikit-learn/issues/21755 */display: inline-block !important;position: relative;}#sk-container-id-7 div.sk-text-repr-fallback {display: none;}</style><div id=\"sk-container-id-7\" class=\"sk-top-container\"><div class=\"sk-text-repr-fallback\"><pre>XGBClassifier(base_score=0.5, booster=&#x27;gbtree&#x27;, callbacks=None,\n",
       "              colsample_bylevel=1, colsample_bynode=1, colsample_bytree=1,\n",
       "              early_stopping_rounds=None, enable_categorical=False,\n",
       "              eval_metric=None, feature_types=None, gamma=0, gpu_id=-1,\n",
       "              grow_policy=&#x27;depthwise&#x27;, importance_type=None,\n",
       "              interaction_constraints=&#x27;&#x27;, learning_rate=0.1, max_bin=256,\n",
       "              max_cat_threshold=64, max_cat_to_onehot=4, max_delta_step=0,\n",
       "              max_depth=6, max_leaves=0, min_child_weight=1, missing=nan,\n",
       "              monotone_constraints=&#x27;()&#x27;, n_estimators=1000, n_jobs=-1,\n",
       "              num_parallel_tree=1, predictor=&#x27;auto&#x27;, random_state=2611, ...)</pre><b>In a Jupyter environment, please rerun this cell to show the HTML representation or trust the notebook. <br />On GitHub, the HTML representation is unable to render, please try loading this page with nbviewer.org.</b></div><div class=\"sk-container\" hidden><div class=\"sk-item\"><div class=\"sk-estimator sk-toggleable\"><input class=\"sk-toggleable__control sk-hidden--visually\" id=\"sk-estimator-id-7\" type=\"checkbox\" checked><label for=\"sk-estimator-id-7\" class=\"sk-toggleable__label sk-toggleable__label-arrow\">XGBClassifier</label><div class=\"sk-toggleable__content\"><pre>XGBClassifier(base_score=0.5, booster=&#x27;gbtree&#x27;, callbacks=None,\n",
       "              colsample_bylevel=1, colsample_bynode=1, colsample_bytree=1,\n",
       "              early_stopping_rounds=None, enable_categorical=False,\n",
       "              eval_metric=None, feature_types=None, gamma=0, gpu_id=-1,\n",
       "              grow_policy=&#x27;depthwise&#x27;, importance_type=None,\n",
       "              interaction_constraints=&#x27;&#x27;, learning_rate=0.1, max_bin=256,\n",
       "              max_cat_threshold=64, max_cat_to_onehot=4, max_delta_step=0,\n",
       "              max_depth=6, max_leaves=0, min_child_weight=1, missing=nan,\n",
       "              monotone_constraints=&#x27;()&#x27;, n_estimators=1000, n_jobs=-1,\n",
       "              num_parallel_tree=1, predictor=&#x27;auto&#x27;, random_state=2611, ...)</pre></div></div></div></div></div>"
      ],
      "text/plain": [
       "XGBClassifier(base_score=0.5, booster='gbtree', callbacks=None,\n",
       "              colsample_bylevel=1, colsample_bynode=1, colsample_bytree=1,\n",
       "              early_stopping_rounds=None, enable_categorical=False,\n",
       "              eval_metric=None, feature_types=None, gamma=0, gpu_id=-1,\n",
       "              grow_policy='depthwise', importance_type=None,\n",
       "              interaction_constraints='', learning_rate=0.1, max_bin=256,\n",
       "              max_cat_threshold=64, max_cat_to_onehot=4, max_delta_step=0,\n",
       "              max_depth=6, max_leaves=0, min_child_weight=1, missing=nan,\n",
       "              monotone_constraints='()', n_estimators=1000, n_jobs=-1,\n",
       "              num_parallel_tree=1, predictor='auto', random_state=2611, ...)"
      ]
     },
     "execution_count": 108,
     "metadata": {},
     "output_type": "execute_result"
    }
   ],
   "source": [
    "# XGBoost Classifier\n",
    "xgb_model = xgb.XGBClassifier(objective=\"binary:logistic\", random_state=2611, learning_rate=0.1, n_jobs=-1, n_estimators = 1000)\n",
    "xgb_model.fit(x_train_vectorized,y_train)"
   ]
  },
  {
   "cell_type": "code",
   "execution_count": 109,
   "metadata": {},
   "outputs": [
    {
     "name": "stdout",
     "output_type": "stream",
     "text": [
      "Model Performance metrics:\n",
      "------------------------------\n",
      "Accuracy: 0.87092\n",
      "Precision: 0.8653376408478449\n",
      "Recall: 0.87856\n",
      "F1 Score: 0.8718986939780079\n",
      "\n",
      "Model Classification report:\n",
      "------------------------------\n",
      "              precision    recall  f1-score   support\n",
      "\n",
      "           0       0.88      0.86      0.87     12500\n",
      "           1       0.87      0.88      0.87     12500\n",
      "\n",
      "    accuracy                           0.87     25000\n",
      "   macro avg       0.87      0.87      0.87     25000\n",
      "weighted avg       0.87      0.87      0.87     25000\n",
      "\n",
      "\n",
      "Prediction Confusion Matrix:\n",
      "------------------------------\n",
      "       0      1\n",
      "0  10791   1709\n",
      "1   1518  10982\n",
      "Roc AUC Gradient Boosting Training set score: 0.9987\n",
      "Roc AUC Gradient Boosting Test set score: 0.9446\n"
     ]
    }
   ],
   "source": [
    "y_xgbf_predict = xgb_model.predict(x_test_vectorized)\n",
    "get_performance(y_xgbf_predict,y_test)\n",
    "\n",
    "y_pred_proba_test_xgb = xgb_model.predict_proba(x_test_vectorized)[::,1]\n",
    "auc_test_xgb = metrics.roc_auc_score(y_test, y_pred_proba_test_xgb)\n",
    "\n",
    "y_pred_proba_train_xgb = xgb_model.predict_proba(x_train_vectorized)[::,1]\n",
    "auc_train_xgb = metrics.roc_auc_score(y_test, y_pred_proba_train_xgb)\n",
    "\n",
    "print('Roc AUC Gradient Boosting Training set score: {:.4f}'.format(auc_train_xgb))\n",
    "print('Roc AUC Gradient Boosting Test set score: {:.4f}'.format(auc_test_xgb))"
   ]
  },
  {
   "cell_type": "code",
   "execution_count": 110,
   "metadata": {},
   "outputs": [
    {
     "data": {
      "image/png": "[encoded data removed]",
      "text/plain": [
       "<Figure size 1000x500 with 1 Axes>"
      ]
     },
     "metadata": {},
     "output_type": "display_data"
    }
   ],
   "source": [
    "roc_auc = plot_roc(xgb_model, y_test, x_test_vectorized)"
   ]
  },
  {
   "cell_type": "markdown",
   "metadata": {},
   "source": [
    "### *Don't change anything in this block, just make it run correctly*\n",
    "\n",
    "Let's check that the `get_performance` function returns the metrics correctly. For that we are going to simulate input/output data of a model."
   ]
  },
  {
   "cell_type": "code",
   "execution_count": 111,
   "metadata": {},
   "outputs": [
    {
     "name": "stdout",
     "output_type": "stream",
     "text": [
      "Model Performance metrics:\n",
      "------------------------------\n",
      "Accuracy: 0.6\n",
      "Precision: 0.6\n",
      "Recall: 0.6\n",
      "F1 Score: 0.6\n",
      "\n",
      "Model Classification report:\n",
      "------------------------------\n",
      "              precision    recall  f1-score   support\n",
      "\n",
      "           0       0.60      0.60      0.60         5\n",
      "           1       0.60      0.60      0.60         5\n",
      "\n",
      "    accuracy                           0.60        10\n",
      "   macro avg       0.60      0.60      0.60        10\n",
      "weighted avg       0.60      0.60      0.60        10\n",
      "\n",
      "\n",
      "Prediction Confusion Matrix:\n",
      "------------------------------\n",
      "   0  1\n",
      "0  3  2\n",
      "1  2  3\n",
      "Success!\n"
     ]
    }
   ],
   "source": [
    "def check_basic_metrics():\n",
    "    accuracy, precision, recall, f1_score = get_performance(\n",
    "        [1, 1, 1, 1, 1, 0, 0, 0, 0, 0], \n",
    "        [1, 1, 1, 0, 0, 1, 1, 0, 0, 0]\n",
    "    )\n",
    "    \n",
    "    if (accuracy, precision, recall, f1_score) == (0.6, 0.6, 0.6, 0.6):\n",
    "        print('Success!')\n",
    "    else:\n",
    "        raise ValueError('You must check your get_performance function!')\n",
    "        \n",
    "check_basic_metrics()"
   ]
  },
  {
   "cell_type": "markdown",
   "metadata": {},
   "source": [
    "Let's see if your model at least exceeds an ROC-AUC of 0.93"
   ]
  },
  {
   "cell_type": "code",
   "execution_count": 112,
   "metadata": {},
   "outputs": [
    {
     "name": "stdout",
     "output_type": "stream",
     "text": [
      "Success!\n"
     ]
    }
   ],
   "source": [
    "def check_roc(roc_auc):\n",
    "    if roc_auc > 0.93:\n",
    "        print('Success!')\n",
    "    else:\n",
    "        raise ValueError('Your model is not good enough!')\n",
    "        \n",
    "check_roc(roc_auc)"
   ]
  },
  {
   "cell_type": "markdown",
   "metadata": {},
   "source": [
    "---\n",
    "## 5. Feature Engineering with Custom Word Embedding\n",
    "\n",
    "### Tokenize reviews and train your own Word Embedding\n",
    "\n",
    "You are going to have to train your own word embedding, for this we are going to use the __gensim__ library. The only requirement we ask of you is that the $vector\\_size=100$.\n",
    "\n",
    "[Here](https://radimrehurek.com/gensim/models/word2vec.html) you can read Gensim's Word2Vec documentation so you can train your own embedding, using the review data as a corpus.\n",
    "\n",
    "As a previous step to training your word embedding you must tokenize the corpus, this may take a bit depending on the size of the dataset and the tokenizer we use, if you want you can try the NLTK tokenizer called `ToktokTokenizer`, which turns out to be a little faster (we hope that this recommendation does not bias your work, try and use the ones you want)"
   ]
  },
  {
   "cell_type": "code",
   "execution_count": 113,
   "metadata": {},
   "outputs": [],
   "source": [
    "def tokenize_corpus(corpus):\n",
    "    tokenizer = ToktokTokenizer()\n",
    "    tokenized_corpus = [tokenizer.tokenize(text) for text in corpus] \n",
    "    return tokenized_corpus"
   ]
  },
  {
   "cell_type": "code",
   "execution_count": 114,
   "metadata": {},
   "outputs": [],
   "source": [
    "X_train_tokenized = tokenize_corpus(x_train_x_test_normalized_dataframe['X_train_norm'].tolist())\n",
    "X_train_unsup_tokenized = tokenize_corpus(x_train_unsup_normalized_dataframe['X_train_unsup_norm'].tolist())\n",
    "X_test_tokenized = tokenize_corpus(x_train_x_test_normalized_dataframe['X_test_norm'].tolist())"
   ]
  },
  {
   "cell_type": "code",
   "execution_count": 115,
   "metadata": {},
   "outputs": [],
   "source": [
    "X_train_extended = X_train_tokenized  + X_train_unsup_tokenized"
   ]
  },
  {
   "cell_type": "code",
   "execution_count": 116,
   "metadata": {},
   "outputs": [],
   "source": [
    "model_w2vec = Word2Vec(X_train_extended, vector_size=100, window=18, min_count=5, workers=8)"
   ]
  },
  {
   "cell_type": "markdown",
   "metadata": {},
   "source": [
    "### Generate averaged word vector features\n",
    "\n",
    "Once the embedding has been trained, we must use it. Remember that embedding will convert each word you pass to it into a vector of a given dimension (in our case $vector\\_size=100$). So in order to obtain a vector for each review, you must average the vectors of all the words that are part of the same review.\n",
    "\n",
    "The function must have the following form:\n",
    "* `vectorizer(corpus, model, num_features=100)`\n",
    "\n",
    "\n",
    "Where:\n",
    "* `corpus:` corresponds to the entire dataset, in this way we obtain an average vector for each review, with a single call to the function.\n",
    "* `model:` is your trained model.\n",
    "* `num_features:` the dimension of the output vector of your embedding (remember that in our case we set this value to 100)."
   ]
  },
  {
   "cell_type": "code",
   "execution_count": 117,
   "metadata": {},
   "outputs": [],
   "source": [
    "def vectorizer(corpus, model, num_features=100):\n",
    "    # Put your code\n",
    "    corpus_vectors = []\n",
    "    vocab = set(model.wv.index_to_key)\n",
    "    for text in corpus:\n",
    "        text_vector=[]\n",
    "        for word in text:\n",
    "            if word in vocab:\n",
    "                word_vector = model.wv[word]\n",
    "                text_vector.append(word_vector)\n",
    "        avg_vector = np.array(text_vector).mean(axis=0)\n",
    "        corpus_vectors.append(avg_vector)\n",
    "    return corpus_vectors"
   ]
  },
  {
   "cell_type": "code",
   "execution_count": 118,
   "metadata": {},
   "outputs": [],
   "source": [
    "X_train_w2vec = vectorizer(X_train_tokenized, model_w2vec)\n",
    "X_test_w2vec = vectorizer(X_test_tokenized, model_w2vec)"
   ]
  },
  {
   "cell_type": "markdown",
   "metadata": {},
   "source": [
    "### *Don't change anything in this block, just make it run correctly*\n",
    "\n",
    "Let's do a simple check of the embedding that you just trained."
   ]
  },
  {
   "cell_type": "code",
   "execution_count": 119,
   "metadata": {},
   "outputs": [
    {
     "name": "stdout",
     "output_type": "stream",
     "text": [
      "Success! Your embedding tells me that \"women\" and \"man\" are similar with a score of 0.5764694809913635\n"
     ]
    }
   ],
   "source": [
    "def check_embedding(model):\n",
    "    vector = model.wv['computer']\n",
    "    if len(vector) == 100:\n",
    "        print(\n",
    "            'Success! Your embedding tells me that \"women\" and \"man\" '\n",
    "            f'are similar with a score of {model.wv.similarity(\"woman\", \"man\")}'\n",
    "        )\n",
    "    else:\n",
    "        raise ValueError('You should check your embedding vector size!')\n",
    "        \n",
    "check_embedding(model_w2vec)"
   ]
  },
  {
   "cell_type": "markdown",
   "metadata": {},
   "source": [
    "Now, we are going to check the vectorizer, remember that the vectorizer must generate an average vector of all the words present in the same review. So we're going to get two vectors of two words and manually average them, then using those two words we'll simulate a tokenized sentence and see that it matches the manual way."
   ]
  },
  {
   "cell_type": "code",
   "execution_count": 120,
   "metadata": {},
   "outputs": [
    {
     "name": "stdout",
     "output_type": "stream",
     "text": [
      "Success!\n"
     ]
    }
   ],
   "source": [
    "def check_vectorizer(model):\n",
    "    vector1 = model.wv['personal']\n",
    "    vector2 = model.wv['computer']\n",
    "    avg = vectorizer([['personal', 'computer']], model)[0]\n",
    "\n",
    "    if np.allclose((vector1 + vector2) / 2, avg):\n",
    "        print('Success!')\n",
    "    else:\n",
    "        raise ValueError('You should check your vectorizer!')\n",
    "        \n",
    "check_vectorizer(model_w2vec)"
   ]
  },
  {
   "cell_type": "markdown",
   "metadata": {},
   "source": [
    "### Modeling\n",
    "\n",
    "Finally train a new model, it can be the same one you used before and compare the results you got using BoW/TF-IDF and Word2Vec.\n",
    "\n",
    "In addition to training the model we ask you to show:\n",
    "\n",
    "* `Accuracy`\n",
    "* `Recall`\n",
    "* `F1-Score`\n",
    "* `Classification Report`\n",
    "* `Confusion Matrix`\n",
    "* `ROC Curve`\n",
    "* `Obtain the ROC-AUC value (later we will do a small minimum performance check with this value)`"
   ]
  },
  {
   "cell_type": "code",
   "execution_count": 121,
   "metadata": {},
   "outputs": [
    {
     "name": "stdout",
     "output_type": "stream",
     "text": [
      "Fitting 5 folds for each of 28 candidates, totalling 140 fits\n"
     ]
    },
    {
     "name": "stderr",
     "output_type": "stream",
     "text": [
      "c:\\Users\\marco\\AppData\\Local\\pypoetry\\Cache\\virtualenvs\\anyoneai-sprint6-gza19SlD-py3.8\\lib\\site-packages\\sklearn\\model_selection\\_validation.py:378: FitFailedWarning: \n",
      "70 fits failed out of a total of 140.\n",
      "The score on these train-test partitions for these parameters will be set to nan.\n",
      "If these failures are not expected, you can try to debug them by setting error_score='raise'.\n",
      "\n",
      "Below are more details about the failures:\n",
      "--------------------------------------------------------------------------------\n",
      "70 fits failed with the following error:\n",
      "Traceback (most recent call last):\n",
      "  File \"c:\\Users\\marco\\AppData\\Local\\pypoetry\\Cache\\virtualenvs\\anyoneai-sprint6-gza19SlD-py3.8\\lib\\site-packages\\sklearn\\model_selection\\_validation.py\", line 686, in _fit_and_score\n",
      "    estimator.fit(X_train, y_train, **fit_params)\n",
      "  File \"c:\\Users\\marco\\AppData\\Local\\pypoetry\\Cache\\virtualenvs\\anyoneai-sprint6-gza19SlD-py3.8\\lib\\site-packages\\sklearn\\linear_model\\_logistic.py\", line 1091, in fit\n",
      "    solver = _check_solver(self.solver, self.penalty, self.dual)\n",
      "  File \"c:\\Users\\marco\\AppData\\Local\\pypoetry\\Cache\\virtualenvs\\anyoneai-sprint6-gza19SlD-py3.8\\lib\\site-packages\\sklearn\\linear_model\\_logistic.py\", line 61, in _check_solver\n",
      "    raise ValueError(\n",
      "ValueError: Solver lbfgs supports only 'l2' or 'none' penalties, got l1 penalty.\n",
      "\n",
      "  warnings.warn(some_fits_failed_message, FitFailedWarning)\n",
      "c:\\Users\\marco\\AppData\\Local\\pypoetry\\Cache\\virtualenvs\\anyoneai-sprint6-gza19SlD-py3.8\\lib\\site-packages\\sklearn\\model_selection\\_search.py:953: UserWarning: One or more of the test scores are non-finite: [       nan        nan 0.9151889  0.9151889         nan        nan\n",
      " 0.93057626 0.93057626        nan        nan 0.93248938 0.93248938\n",
      "        nan        nan 0.9323633  0.9323633         nan        nan\n",
      " 0.93232029 0.93232029        nan        nan 0.93231456 0.93231456\n",
      "        nan        nan 0.93231302 0.93231302]\n",
      "  warnings.warn(\n"
     ]
    },
    {
     "name": "stdout",
     "output_type": "stream",
     "text": [
      "Logistic regression tuned hpyerparameters :(best parameters)  {'C': 0.1, 'class_weight': None, 'dual': False, 'fit_intercept': True, 'intercept_scaling': 1, 'l1_ratio': None, 'max_iter': 100000, 'multi_class': 'auto', 'n_jobs': None, 'penalty': 'l2', 'random_state': 2611, 'solver': 'lbfgs', 'tol': 0.001, 'verbose': 0, 'warm_start': False}\n"
     ]
    }
   ],
   "source": [
    "# Logistic Regression\n",
    "grid_lg_w2vec={\"C\":np.logspace(-3,3,7), \"penalty\":[\"l1\",\"l2\"], \"max_iter\":[100000], \"tol\":[0.0010, 0.0012]}\n",
    "logreg_w2vec = LogisticRegression(random_state=2611)\n",
    "clf_w2vec_cv = GridSearchCV(logreg_w2vec,grid_lg_w2vec,cv=5, n_jobs=-1, verbose=2, scoring='roc_auc')\n",
    "logreg_w2vec_cv = clf_w2vec_cv.fit(X_train_w2vec,y_train)\n",
    "y_logreg_w2vec_cv_pred = logreg_w2vec_cv.predict(X_test_w2vec)\n",
    "print(\"Logistic regression tuned hpyerparameters :(best parameters) \",logreg_w2vec_cv.best_estimator_.get_params())"
   ]
  },
  {
   "cell_type": "code",
   "execution_count": 122,
   "metadata": {},
   "outputs": [
    {
     "name": "stdout",
     "output_type": "stream",
     "text": [
      "Model Performance metrics:\n",
      "------------------------------\n",
      "Accuracy: 0.86544\n",
      "Precision: 0.8631737955159803\n",
      "Recall: 0.86856\n",
      "F1 Score: 0.8658585214131908\n",
      "\n",
      "Model Classification report:\n",
      "------------------------------\n",
      "              precision    recall  f1-score   support\n",
      "\n",
      "           0       0.87      0.86      0.87     12500\n",
      "           1       0.86      0.87      0.87     12500\n",
      "\n",
      "    accuracy                           0.87     25000\n",
      "   macro avg       0.87      0.87      0.87     25000\n",
      "weighted avg       0.87      0.87      0.87     25000\n",
      "\n",
      "\n",
      "Prediction Confusion Matrix:\n",
      "------------------------------\n",
      "       0      1\n",
      "0  10779   1721\n",
      "1   1643  10857\n",
      "Roc AUC Logistic Regression Training set score: 0.9355\n",
      "Roc AUC Logistic Regression Test set score: 0.9379\n"
     ]
    }
   ],
   "source": [
    "get_performance(y_logreg_w2vec_cv_pred,y_test)\n",
    "\n",
    "y_pred_proba_test_lrw2vec = logreg_w2vec_cv.predict_proba(X_test_w2vec)[::,1]\n",
    "auc_test_lrw2vec = metrics.roc_auc_score(y_test, y_pred_proba_test_lrw2vec)\n",
    "\n",
    "y_pred_proba_train_lrw2vec = logreg_w2vec_cv.predict_proba(X_train_w2vec)[::,1]\n",
    "auc_train_lrw2vec = metrics.roc_auc_score(y_test, y_pred_proba_train_lrw2vec)\n",
    "\n",
    "print('Roc AUC Logistic Regression Training set score: {:.4f}'.format(auc_train_lrw2vec))\n",
    "print('Roc AUC Logistic Regression Test set score: {:.4f}'.format(auc_test_lrw2vec))"
   ]
  },
  {
   "cell_type": "code",
   "execution_count": 123,
   "metadata": {},
   "outputs": [
    {
     "name": "stdout",
     "output_type": "stream",
     "text": [
      "Fitting 3 folds for each of 20 candidates, totalling 60 fits\n"
     ]
    },
    {
     "name": "stderr",
     "output_type": "stream",
     "text": [
      "[Parallel(n_jobs=1)]: Using backend SequentialBackend with 1 concurrent workers.\n",
      "[Parallel(n_jobs=1)]: Done 200 out of 200 | elapsed:   37.2s finished\n"
     ]
    }
   ],
   "source": [
    "# RandomForest Classifier\n",
    "model_params = {\n",
    "    # Number of trees in random forest\n",
    "    'n_estimators': [int(x) for x in np.linspace(start = 4, stop = 200, num = 4)],\n",
    "    # Maximum number of levels in tree\n",
    "    'max_depth': [20, 40, 60, 100],\n",
    "    # Minimum number of samples required to split a node - itereate 3 different values\n",
    "    'min_samples_split': [2, 5, 10],\n",
    "    # Minimum number of samples required at each leaf node - itereate 3 different values\n",
    "    'min_samples_leaf': [1, 2, 4]\n",
    "}\n",
    "rf_model_w2vec = RandomForestClassifier(random_state=2611, verbose=1)\n",
    "clf_randomcv_w2vec = RandomizedSearchCV(rf_model_w2vec, model_params, n_iter=20, cv=3, random_state=2611, n_jobs=-1, verbose=1, scoring='roc_auc')\n",
    "rf_randomcv_w2vec = clf_randomcv_w2vec.fit(X_train_w2vec,y_train)"
   ]
  },
  {
   "cell_type": "code",
   "execution_count": 124,
   "metadata": {},
   "outputs": [
    {
     "name": "stderr",
     "output_type": "stream",
     "text": [
      "[Parallel(n_jobs=1)]: Using backend SequentialBackend with 1 concurrent workers.\n",
      "[Parallel(n_jobs=1)]: Done 200 out of 200 | elapsed:    0.7s finished\n",
      "[Parallel(n_jobs=1)]: Using backend SequentialBackend with 1 concurrent workers.\n"
     ]
    },
    {
     "name": "stdout",
     "output_type": "stream",
     "text": [
      "Model Performance metrics:\n",
      "------------------------------\n",
      "Accuracy: 0.838\n",
      "Precision: 0.8294603867747973\n",
      "Recall: 0.85096\n",
      "F1 Score: 0.8400726583478123\n",
      "\n",
      "Model Classification report:\n",
      "------------------------------\n",
      "              precision    recall  f1-score   support\n",
      "\n",
      "           0       0.85      0.83      0.84     12500\n",
      "           1       0.83      0.85      0.84     12500\n",
      "\n",
      "    accuracy                           0.84     25000\n",
      "   macro avg       0.84      0.84      0.84     25000\n",
      "weighted avg       0.84      0.84      0.84     25000\n",
      "\n",
      "\n",
      "Prediction Confusion Matrix:\n",
      "------------------------------\n",
      "       0      1\n",
      "0  10313   2187\n",
      "1   1863  10637\n"
     ]
    },
    {
     "name": "stderr",
     "output_type": "stream",
     "text": [
      "[Parallel(n_jobs=1)]: Done 200 out of 200 | elapsed:    0.8s finished\n",
      "[Parallel(n_jobs=1)]: Using backend SequentialBackend with 1 concurrent workers.\n"
     ]
    },
    {
     "name": "stdout",
     "output_type": "stream",
     "text": [
      "Roc AUC Random Forest Training set score: 0.9993\n",
      "Roc AUC Random Forest Test set score: 0.9170\n"
     ]
    },
    {
     "name": "stderr",
     "output_type": "stream",
     "text": [
      "[Parallel(n_jobs=1)]: Done 200 out of 200 | elapsed:    0.7s finished\n"
     ]
    }
   ],
   "source": [
    "y_rf_w2vec_cv_pred = rf_randomcv_w2vec.predict(X_test_w2vec)\n",
    "get_performance(y_rf_w2vec_cv_pred,y_test)\n",
    "\n",
    "y_pred_proba_test_RF_w2vec = rf_randomcv_w2vec.predict_proba(X_test_w2vec)[::,1]\n",
    "auc_test_RF_w2vec = metrics.roc_auc_score(y_test, y_pred_proba_test_RF_w2vec)\n",
    "\n",
    "y_pred_proba_train_RF_w2vec = rf_randomcv_w2vec.predict_proba(X_train_w2vec)[::,1]\n",
    "auc_train_RF_w2vec = metrics.roc_auc_score(y_test, y_pred_proba_train_RF_w2vec)\n",
    "\n",
    "print('Roc AUC Random Forest Training set score: {:.4f}'.format(auc_train_RF_w2vec))\n",
    "print('Roc AUC Random Forest Test set score: {:.4f}'.format(auc_test_RF_w2vec ))"
   ]
  },
  {
   "cell_type": "code",
   "execution_count": 125,
   "metadata": {},
   "outputs": [
    {
     "data": {
      "text/html": [
       "<style>#sk-container-id-8 {color: black;background-color: white;}#sk-container-id-8 pre{padding: 0;}#sk-container-id-8 div.sk-toggleable {background-color: white;}#sk-container-id-8 label.sk-toggleable__label {cursor: pointer;display: block;width: 100%;margin-bottom: 0;padding: 0.3em;box-sizing: border-box;text-align: center;}#sk-container-id-8 label.sk-toggleable__label-arrow:before {content: \"▸\";float: left;margin-right: 0.25em;color: #696969;}#sk-container-id-8 label.sk-toggleable__label-arrow:hover:before {color: black;}#sk-container-id-8 div.sk-estimator:hover label.sk-toggleable__label-arrow:before {color: black;}#sk-container-id-8 div.sk-toggleable__content {max-height: 0;max-width: 0;overflow: hidden;text-align: left;background-color: #f0f8ff;}#sk-container-id-8 div.sk-toggleable__content pre {margin: 0.2em;color: black;border-radius: 0.25em;background-color: #f0f8ff;}#sk-container-id-8 input.sk-toggleable__control:checked~div.sk-toggleable__content {max-height: 200px;max-width: 100%;overflow: auto;}#sk-container-id-8 input.sk-toggleable__control:checked~label.sk-toggleable__label-arrow:before {content: \"▾\";}#sk-container-id-8 div.sk-estimator input.sk-toggleable__control:checked~label.sk-toggleable__label {background-color: #d4ebff;}#sk-container-id-8 div.sk-label input.sk-toggleable__control:checked~label.sk-toggleable__label {background-color: #d4ebff;}#sk-container-id-8 input.sk-hidden--visually {border: 0;clip: rect(1px 1px 1px 1px);clip: rect(1px, 1px, 1px, 1px);height: 1px;margin: -1px;overflow: hidden;padding: 0;position: absolute;width: 1px;}#sk-container-id-8 div.sk-estimator {font-family: monospace;background-color: #f0f8ff;border: 1px dotted black;border-radius: 0.25em;box-sizing: border-box;margin-bottom: 0.5em;}#sk-container-id-8 div.sk-estimator:hover {background-color: #d4ebff;}#sk-container-id-8 div.sk-parallel-item::after {content: \"\";width: 100%;border-bottom: 1px solid gray;flex-grow: 1;}#sk-container-id-8 div.sk-label:hover label.sk-toggleable__label {background-color: #d4ebff;}#sk-container-id-8 div.sk-serial::before {content: \"\";position: absolute;border-left: 1px solid gray;box-sizing: border-box;top: 0;bottom: 0;left: 50%;z-index: 0;}#sk-container-id-8 div.sk-serial {display: flex;flex-direction: column;align-items: center;background-color: white;padding-right: 0.2em;padding-left: 0.2em;position: relative;}#sk-container-id-8 div.sk-item {position: relative;z-index: 1;}#sk-container-id-8 div.sk-parallel {display: flex;align-items: stretch;justify-content: center;background-color: white;position: relative;}#sk-container-id-8 div.sk-item::before, #sk-container-id-8 div.sk-parallel-item::before {content: \"\";position: absolute;border-left: 1px solid gray;box-sizing: border-box;top: 0;bottom: 0;left: 50%;z-index: -1;}#sk-container-id-8 div.sk-parallel-item {display: flex;flex-direction: column;z-index: 1;position: relative;background-color: white;}#sk-container-id-8 div.sk-parallel-item:first-child::after {align-self: flex-end;width: 50%;}#sk-container-id-8 div.sk-parallel-item:last-child::after {align-self: flex-start;width: 50%;}#sk-container-id-8 div.sk-parallel-item:only-child::after {width: 0;}#sk-container-id-8 div.sk-dashed-wrapped {border: 1px dashed gray;margin: 0 0.4em 0.5em 0.4em;box-sizing: border-box;padding-bottom: 0.4em;background-color: white;}#sk-container-id-8 div.sk-label label {font-family: monospace;font-weight: bold;display: inline-block;line-height: 1.2em;}#sk-container-id-8 div.sk-label-container {text-align: center;}#sk-container-id-8 div.sk-container {/* jupyter's `normalize.less` sets `[hidden] { display: none; }` but bootstrap.min.css set `[hidden] { display: none !important; }` so we also need the `!important` here to be able to override the default hidden behavior on the sphinx rendered scikit-learn.org. See: https://github.com/scikit-learn/scikit-learn/issues/21755 */display: inline-block !important;position: relative;}#sk-container-id-8 div.sk-text-repr-fallback {display: none;}</style><div id=\"sk-container-id-8\" class=\"sk-top-container\"><div class=\"sk-text-repr-fallback\"><pre>XGBClassifier(base_score=0.5, booster=&#x27;gbtree&#x27;, callbacks=None,\n",
       "              colsample_bylevel=1, colsample_bynode=1, colsample_bytree=1,\n",
       "              early_stopping_rounds=None, enable_categorical=False,\n",
       "              eval_metric=None, feature_types=None, gamma=0, gpu_id=-1,\n",
       "              grow_policy=&#x27;depthwise&#x27;, importance_type=None,\n",
       "              interaction_constraints=&#x27;&#x27;, learning_rate=0.1, max_bin=256,\n",
       "              max_cat_threshold=64, max_cat_to_onehot=4, max_delta_step=0,\n",
       "              max_depth=6, max_leaves=0, min_child_weight=1, missing=nan,\n",
       "              monotone_constraints=&#x27;()&#x27;, n_estimators=1000, n_jobs=-1,\n",
       "              num_parallel_tree=1, predictor=&#x27;auto&#x27;, random_state=2611, ...)</pre><b>In a Jupyter environment, please rerun this cell to show the HTML representation or trust the notebook. <br />On GitHub, the HTML representation is unable to render, please try loading this page with nbviewer.org.</b></div><div class=\"sk-container\" hidden><div class=\"sk-item\"><div class=\"sk-estimator sk-toggleable\"><input class=\"sk-toggleable__control sk-hidden--visually\" id=\"sk-estimator-id-8\" type=\"checkbox\" checked><label for=\"sk-estimator-id-8\" class=\"sk-toggleable__label sk-toggleable__label-arrow\">XGBClassifier</label><div class=\"sk-toggleable__content\"><pre>XGBClassifier(base_score=0.5, booster=&#x27;gbtree&#x27;, callbacks=None,\n",
       "              colsample_bylevel=1, colsample_bynode=1, colsample_bytree=1,\n",
       "              early_stopping_rounds=None, enable_categorical=False,\n",
       "              eval_metric=None, feature_types=None, gamma=0, gpu_id=-1,\n",
       "              grow_policy=&#x27;depthwise&#x27;, importance_type=None,\n",
       "              interaction_constraints=&#x27;&#x27;, learning_rate=0.1, max_bin=256,\n",
       "              max_cat_threshold=64, max_cat_to_onehot=4, max_delta_step=0,\n",
       "              max_depth=6, max_leaves=0, min_child_weight=1, missing=nan,\n",
       "              monotone_constraints=&#x27;()&#x27;, n_estimators=1000, n_jobs=-1,\n",
       "              num_parallel_tree=1, predictor=&#x27;auto&#x27;, random_state=2611, ...)</pre></div></div></div></div></div>"
      ],
      "text/plain": [
       "XGBClassifier(base_score=0.5, booster='gbtree', callbacks=None,\n",
       "              colsample_bylevel=1, colsample_bynode=1, colsample_bytree=1,\n",
       "              early_stopping_rounds=None, enable_categorical=False,\n",
       "              eval_metric=None, feature_types=None, gamma=0, gpu_id=-1,\n",
       "              grow_policy='depthwise', importance_type=None,\n",
       "              interaction_constraints='', learning_rate=0.1, max_bin=256,\n",
       "              max_cat_threshold=64, max_cat_to_onehot=4, max_delta_step=0,\n",
       "              max_depth=6, max_leaves=0, min_child_weight=1, missing=nan,\n",
       "              monotone_constraints='()', n_estimators=1000, n_jobs=-1,\n",
       "              num_parallel_tree=1, predictor='auto', random_state=2611, ...)"
      ]
     },
     "execution_count": 125,
     "metadata": {},
     "output_type": "execute_result"
    }
   ],
   "source": [
    "# XGBoost Classifier\n",
    "xgb_model_w2vec = xgb.XGBClassifier(objective=\"binary:logistic\", random_state=2611, learning_rate=0.1, n_jobs=-1, n_estimators = 1000)\n",
    "xgb_model_w2vec.fit(X_train_w2vec,y_train)"
   ]
  },
  {
   "cell_type": "code",
   "execution_count": 126,
   "metadata": {},
   "outputs": [
    {
     "name": "stdout",
     "output_type": "stream",
     "text": [
      "Model Performance metrics:\n",
      "------------------------------\n",
      "Accuracy: 0.86088\n",
      "Precision: 0.8611689351481185\n",
      "Recall: 0.86048\n",
      "F1 Score: 0.8608243297318928\n",
      "\n",
      "Model Classification report:\n",
      "------------------------------\n",
      "              precision    recall  f1-score   support\n",
      "\n",
      "           0       0.86      0.86      0.86     12500\n",
      "           1       0.86      0.86      0.86     12500\n",
      "\n",
      "    accuracy                           0.86     25000\n",
      "   macro avg       0.86      0.86      0.86     25000\n",
      "weighted avg       0.86      0.86      0.86     25000\n",
      "\n",
      "\n",
      "Prediction Confusion Matrix:\n",
      "------------------------------\n",
      "       0      1\n",
      "0  10766   1734\n",
      "1   1744  10756\n",
      "Roc AUC Gradient Boosting Training set score: 0.8609\n",
      "Roc AUC Gradient Boosting Test set score: 0.8609\n"
     ]
    }
   ],
   "source": [
    "y_xgbf_predict_w2vec = xgb_model_w2vec.predict(X_test_w2vec)\n",
    "get_performance(y_xgbf_predict_w2vec,y_test)\n",
    "\n",
    "y_pred_proba_test_xgb = xgb_model_w2vec.predict_proba(X_test_w2vec)[::,1]\n",
    "auc_test_xgb_w2vec = metrics.roc_auc_score(y_test, y_xgbf_predict_w2vec)\n",
    "\n",
    "y_pred_proba_train_xgb =xgb_model_w2vec.predict_proba(X_train_w2vec)[::,1]\n",
    "auc_train_xgb_w2vec = metrics.roc_auc_score(y_test, y_xgbf_predict_w2vec)\n",
    "\n",
    "print('Roc AUC Gradient Boosting Training set score: {:.4f}'.format(auc_train_xgb_w2vec))\n",
    "print('Roc AUC Gradient Boosting Test set score: {:.4f}'.format(auc_test_xgb_w2vec))"
   ]
  },
  {
   "cell_type": "code",
   "execution_count": 127,
   "metadata": {},
   "outputs": [
    {
     "data": {
      "image/png": "[encoded data removed]",
      "text/plain": [
       "<Figure size 1000x500 with 1 Axes>"
      ]
     },
     "metadata": {},
     "output_type": "display_data"
    }
   ],
   "source": [
    "roc_auc = plot_roc(logreg_w2vec_cv, y_test, X_test_w2vec)"
   ]
  },
  {
   "cell_type": "markdown",
   "metadata": {},
   "source": [
    "### *Don't change anything in this block, just make it run correctly*"
   ]
  },
  {
   "cell_type": "code",
   "execution_count": 128,
   "metadata": {},
   "outputs": [
    {
     "name": "stdout",
     "output_type": "stream",
     "text": [
      "Success!\n"
     ]
    }
   ],
   "source": [
    "check_roc(roc_auc)"
   ]
  },
  {
   "cell_type": "markdown",
   "metadata": {},
   "source": [
    "---\n",
    "### OPTIONAL:\n",
    "\n",
    "In our case, we train a word embedding from scratch, which is very good at an educational level, but when applying it to a real problem, we need a lot of data (which is not the case with our problem). Therefore, we invite you to investigate and use one of the `pre-trained Word2Vec models`.\n",
    "\n",
    "If you look for the `Pretrained models` section in this [link](https://radimrehurek.com/gensim/models/word2vec.html), you will find information about the models that Gensim owns."
   ]
  },
  {
   "cell_type": "code",
   "execution_count": 129,
   "metadata": {},
   "outputs": [],
   "source": [
    "import gensim.downloader as api"
   ]
  },
  {
   "cell_type": "code",
   "execution_count": 130,
   "metadata": {},
   "outputs": [],
   "source": [
    "model_pre_trained_w2vec = api.load('glove-twitter-100')"
   ]
  },
  {
   "cell_type": "code",
   "execution_count": 131,
   "metadata": {},
   "outputs": [],
   "source": [
    "def vectorizer(corpus, model, num_features=100):\n",
    "    # Put your code\n",
    "    corpus_vectors = []\n",
    "    vocab = set(model.index_to_key)\n",
    "    for text in corpus:\n",
    "        text_vector=[]\n",
    "        for word in text:\n",
    "            if word in vocab:\n",
    "                word_vector = model[word]\n",
    "                text_vector.append(word_vector)\n",
    "        avg_vector = np.array(text_vector).mean(axis=0)\n",
    "        corpus_vectors.append(avg_vector)\n",
    "    return corpus_vectors"
   ]
  },
  {
   "cell_type": "code",
   "execution_count": 132,
   "metadata": {},
   "outputs": [],
   "source": [
    "X_train_w2vec_pt = vectorizer(X_train_tokenized, model_pre_trained_w2vec)\n",
    "X_test_w2vec_pt = vectorizer(X_test_tokenized, model_pre_trained_w2vec)"
   ]
  },
  {
   "cell_type": "code",
   "execution_count": 133,
   "metadata": {},
   "outputs": [
    {
     "name": "stdout",
     "output_type": "stream",
     "text": [
      "Fitting 5 folds for each of 28 candidates, totalling 140 fits\n"
     ]
    },
    {
     "name": "stderr",
     "output_type": "stream",
     "text": [
      "c:\\Users\\marco\\AppData\\Local\\pypoetry\\Cache\\virtualenvs\\anyoneai-sprint6-gza19SlD-py3.8\\lib\\site-packages\\sklearn\\model_selection\\_validation.py:378: FitFailedWarning: \n",
      "70 fits failed out of a total of 140.\n",
      "The score on these train-test partitions for these parameters will be set to nan.\n",
      "If these failures are not expected, you can try to debug them by setting error_score='raise'.\n",
      "\n",
      "Below are more details about the failures:\n",
      "--------------------------------------------------------------------------------\n",
      "70 fits failed with the following error:\n",
      "Traceback (most recent call last):\n",
      "  File \"c:\\Users\\marco\\AppData\\Local\\pypoetry\\Cache\\virtualenvs\\anyoneai-sprint6-gza19SlD-py3.8\\lib\\site-packages\\sklearn\\model_selection\\_validation.py\", line 686, in _fit_and_score\n",
      "    estimator.fit(X_train, y_train, **fit_params)\n",
      "  File \"c:\\Users\\marco\\AppData\\Local\\pypoetry\\Cache\\virtualenvs\\anyoneai-sprint6-gza19SlD-py3.8\\lib\\site-packages\\sklearn\\linear_model\\_logistic.py\", line 1091, in fit\n",
      "    solver = _check_solver(self.solver, self.penalty, self.dual)\n",
      "  File \"c:\\Users\\marco\\AppData\\Local\\pypoetry\\Cache\\virtualenvs\\anyoneai-sprint6-gza19SlD-py3.8\\lib\\site-packages\\sklearn\\linear_model\\_logistic.py\", line 61, in _check_solver\n",
      "    raise ValueError(\n",
      "ValueError: Solver lbfgs supports only 'l2' or 'none' penalties, got l1 penalty.\n",
      "\n",
      "  warnings.warn(some_fits_failed_message, FitFailedWarning)\n",
      "c:\\Users\\marco\\AppData\\Local\\pypoetry\\Cache\\virtualenvs\\anyoneai-sprint6-gza19SlD-py3.8\\lib\\site-packages\\sklearn\\model_selection\\_search.py:953: UserWarning: One or more of the test scores are non-finite: [       nan        nan 0.80067459 0.80067459        nan        nan\n",
      " 0.85402979 0.85402979        nan        nan 0.87908448 0.87908448\n",
      "        nan        nan 0.88580192 0.88580192        nan        nan\n",
      " 0.88620301 0.88620301        nan        nan 0.88616    0.88616\n",
      "        nan        nan 0.88615629 0.88615629]\n",
      "  warnings.warn(\n"
     ]
    },
    {
     "name": "stdout",
     "output_type": "stream",
     "text": [
      "Logistic regression tuned hpyerparameters :(best parameters)  {'C': 0.1, 'class_weight': None, 'dual': False, 'fit_intercept': True, 'intercept_scaling': 1, 'l1_ratio': None, 'max_iter': 100000, 'multi_class': 'auto', 'n_jobs': None, 'penalty': 'l2', 'random_state': 2611, 'solver': 'lbfgs', 'tol': 0.001, 'verbose': 0, 'warm_start': False}\n"
     ]
    }
   ],
   "source": [
    "# Logistic Regression (word2vec pre-trained model)\n",
    "grid_lg_w2vec_pt={\"C\":np.logspace(-3,3,7), \"penalty\":[\"l1\",\"l2\"], \"max_iter\":[100000], \"tol\":[0.0010, 0.0012]}\n",
    "logreg_w2vec_pt = LogisticRegression(random_state=2611)\n",
    "clf_w2vec_cv_pt = GridSearchCV(logreg_w2vec_pt,grid_lg_w2vec_pt,cv=5, n_jobs=-1, verbose=2, scoring='roc_auc')\n",
    "logreg_w2vec_cv_pt = clf_w2vec_cv_pt.fit(X_train_w2vec_pt,y_train)\n",
    "y_logreg_w2vec_cv_pred_pt = logreg_w2vec_cv_pt.predict(X_test_w2vec_pt)\n",
    "print(\"Logistic regression tuned hpyerparameters :(best parameters) \",logreg_w2vec_cv.best_estimator_.get_params())"
   ]
  },
  {
   "cell_type": "code",
   "execution_count": 134,
   "metadata": {},
   "outputs": [
    {
     "name": "stdout",
     "output_type": "stream",
     "text": [
      "Model Performance metrics:\n",
      "------------------------------\n",
      "Accuracy: 0.80716\n",
      "Precision: 0.8136590147863737\n",
      "Recall: 0.7968\n",
      "F1 Score: 0.8051412634897539\n",
      "\n",
      "Model Classification report:\n",
      "------------------------------\n",
      "              precision    recall  f1-score   support\n",
      "\n",
      "           0       0.80      0.82      0.81     12500\n",
      "           1       0.81      0.80      0.81     12500\n",
      "\n",
      "    accuracy                           0.81     25000\n",
      "   macro avg       0.81      0.81      0.81     25000\n",
      "weighted avg       0.81      0.81      0.81     25000\n",
      "\n",
      "\n",
      "Prediction Confusion Matrix:\n",
      "------------------------------\n",
      "       0     1\n",
      "0  10219  2281\n",
      "1   2540  9960\n",
      "Roc AUC Logistic Regression Training set score: 0.8913\n",
      "Roc AUC Logistic Regression Test set score: 0.8883\n"
     ]
    }
   ],
   "source": [
    "get_performance(y_logreg_w2vec_cv_pred_pt,y_test)\n",
    "\n",
    "y_pred_proba_test_lrw2vec_pt = logreg_w2vec_cv_pt.predict_proba(X_test_w2vec_pt)[::,1]\n",
    "auc_test_lrw2vec_pt = metrics.roc_auc_score(y_test, y_pred_proba_test_lrw2vec_pt)\n",
    "\n",
    "y_pred_proba_train_lrw2vec_pt = logreg_w2vec_cv_pt.predict_proba(X_train_w2vec_pt)[::,1]\n",
    "auc_train_lrw2vec_pt = metrics.roc_auc_score(y_test, y_pred_proba_train_lrw2vec_pt)\n",
    "\n",
    "print('Roc AUC Logistic Regression Training set score: {:.4f}'.format(auc_train_lrw2vec_pt))\n",
    "print('Roc AUC Logistic Regression Test set score: {:.4f}'.format(auc_test_lrw2vec_pt))"
   ]
  },
  {
   "cell_type": "code",
   "execution_count": 136,
   "metadata": {},
   "outputs": [
    {
     "data": {
      "image/png": "[encoded data removed]",
      "text/plain": [
       "<Figure size 1000x500 with 1 Axes>"
      ]
     },
     "metadata": {},
     "output_type": "display_data"
    }
   ],
   "source": [
    "roc_auc = plot_roc(logreg_w2vec_cv_pt, y_test, X_test_w2vec_pt)"
   ]
  }
 ],
 "metadata": {
  "anaconda-cloud": {},
  "kernelspec": {
   "display_name": "Python 3.8.10 ('anyoneai-sprint6-gza19SlD-py3.8')",
   "language": "python",
   "name": "python3"
  },
  "language_info": {
   "codemirror_mode": {
    "name": "ipython",
    "version": 3
   },
   "file_extension": ".py",
   "mimetype": "text/x-python",
   "name": "python",
   "nbconvert_exporter": "python",
   "pygments_lexer": "ipython3",
   "version": "3.8.10"
  },
  "vscode": {
   "interpreter": {
    "hash": "ffcb443219600ed997cf8792514ba8cc35e6928a26e6849155c87651ff998c4b"
   }
  }
 },
 "nbformat": 4,
 "nbformat_minor": 1
}
